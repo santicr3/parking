{
 "cells": [
  {
   "cell_type": "code",
   "execution_count": null,
   "metadata": {},
   "outputs": [],
   "source": [
    "#%pip install ultralytics"
   ]
  },
  {
   "cell_type": "code",
   "execution_count": null,
   "metadata": {},
   "outputs": [],
   "source": [
    "\n",
    "from ultralytics import YOLO\n",
    "model = YOLO(\"models/yolov8m.pt\")   \n",
    "\n",
    "results = model.train(\n",
    "    data=\"/home/santicr3/Documents/IA/programacioIA/parking/ocr-data/data.yaml\",       # arxiu de configuració vist abans\n",
    "    device='cpu',                   # '0' per a GPU; 'cpu' per a CPU\n",
    "    epochs = 2,\n",
    "    save_period=2\n",
    ")\n",
    "\n",
    "model.save('new_model')\n"
   ]
  }
 ],
 "metadata": {
  "language_info": {
   "name": "python"
  }
 },
 "nbformat": 4,
 "nbformat_minor": 2
}
